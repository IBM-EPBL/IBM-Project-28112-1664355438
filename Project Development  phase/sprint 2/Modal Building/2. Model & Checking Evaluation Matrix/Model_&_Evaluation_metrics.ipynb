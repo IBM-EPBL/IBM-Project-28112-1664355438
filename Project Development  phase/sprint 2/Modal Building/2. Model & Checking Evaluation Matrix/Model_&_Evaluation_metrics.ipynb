{
  "cells": [
    {
      "cell_type": "markdown",
      "id": "3bfbe25d",
      "metadata": {
        "id": "3bfbe25d"
      },
      "source": [
        "## Random Forest"
      ]
    },
    {
      "cell_type": "code",
      "execution_count": 23,
      "id": "b_TE3OXM6t4n",
      "metadata": {
        "colab": {
          "base_uri": "https://localhost:8080/"
        },
        "id": "b_TE3OXM6t4n",
        "outputId": "19885653-7cec-4e6f-d706-aaeffb558445"
      },
      "outputs": [
        {
          "output_type": "execute_result",
          "data": {
            "text/plain": [
              "0.7857142857142857"
            ]
          },
          "metadata": {},
          "execution_count": 23
        }
      ],
      "source": [
        "from sklearn.ensemble import RandomForestClassifier\n",
        "rfc=RandomForestClassifier()\n",
        "model1=rfc.fit(x_train,y_train)\n",
        "y_pred_rfc=model1.predict(x_test)\n",
        "from sklearn.metrics import accuracy_score\n",
        "a1=accuracy_score(y_test,y_pred_rfc)\n",
        "a1"
      ]
    },
    {
      "cell_type": "markdown",
      "id": "a9becc9d",
      "metadata": {
        "id": "a9becc9d"
      },
      "source": [
        "## Descision tree"
      ]
    },
    {
      "cell_type": "code",
      "execution_count": 24,
      "id": "CD4ztMM0lshI",
      "metadata": {
        "colab": {
          "base_uri": "https://localhost:8080/"
        },
        "id": "CD4ztMM0lshI",
        "outputId": "b5171462-6f4f-42d9-da36-c92b12ddaa07"
      },
      "outputs": [
        {
          "output_type": "execute_result",
          "data": {
            "text/plain": [
              "0.7467532467532467"
            ]
          },
          "metadata": {},
          "execution_count": 24
        }
      ],
      "source": [
        "from sklearn.tree import DecisionTreeClassifier\n",
        "dtc=DecisionTreeClassifier()\n",
        "model2=dtc.fit(x_train,y_train)\n",
        "y_pred_dtc=model2.predict(x_test)\n",
        "a2=accuracy_score(y_test,y_pred_dtc)\n",
        "a2"
      ]
    },
    {
      "cell_type": "markdown",
      "id": "d8176750",
      "metadata": {
        "id": "d8176750"
      },
      "source": [
        "## XGboost"
      ]
    },
    {
      "cell_type": "code",
      "execution_count": 25,
      "id": "F4eOd6uEls_p",
      "metadata": {
        "colab": {
          "base_uri": "https://localhost:8080/"
        },
        "id": "F4eOd6uEls_p",
        "outputId": "f4f045d9-2582-4cd6-af93-e76ba6a5a483"
      },
      "outputs": [
        {
          "output_type": "execute_result",
          "data": {
            "text/plain": [
              "0.8311688311688312"
            ]
          },
          "metadata": {},
          "execution_count": 25
        }
      ],
      "source": [
        "from xgboost import XGBClassifier\n",
        "xgb=XGBClassifier()\n",
        "model3=xgb.fit(x_train,y_train)\n",
        "y_pred_xgb=model3.predict(x_test)\n",
        "a3=accuracy_score(y_test,y_pred_xgb)\n",
        "a3"
      ]
    },
    {
      "cell_type": "markdown",
      "id": "49c5692b",
      "metadata": {
        "id": "49c5692b"
      },
      "source": [
        "## KNN"
      ]
    },
    {
      "cell_type": "code",
      "execution_count": 26,
      "id": "rsnJTPJtltiC",
      "metadata": {
        "colab": {
          "base_uri": "https://localhost:8080/"
        },
        "id": "rsnJTPJtltiC",
        "outputId": "258237d0-dece-4640-df73-cc6afd110bf4"
      },
      "outputs": [
        {
          "output_type": "execute_result",
          "data": {
            "text/plain": [
              "0.8051948051948052"
            ]
          },
          "metadata": {},
          "execution_count": 26
        }
      ],
      "source": [
        "from sklearn.neighbors import KNeighborsClassifier\n",
        "knn=KNeighborsClassifier()\n",
        "model4=knn.fit(x_train,y_train)\n",
        "y_pred_knn=model4.predict(x_test)\n",
        "a4=accuracy_score(y_test,y_pred_knn)\n",
        "a4"
      ]
    },
    {
      "cell_type": "code",
      "execution_count": 27,
      "id": "UfvSv1bslu89",
      "metadata": {
        "colab": {
          "base_uri": "https://localhost:8080/"
        },
        "id": "UfvSv1bslu89",
        "outputId": "f7e6b719-bed6-4b25-912d-84a3a2899bf7"
      },
      "outputs": [
        {
          "output_type": "stream",
          "name": "stdout",
          "text": [
            "Accuracy score of RandomForestClassifier: 0.7857142857142857\n",
            "Accuaracy scorer of DecisionTreeClassifier: 0.7467532467532467\n",
            "Accuracy score of XGBClassifier: 0.8311688311688312\n",
            "Accuracy score of KNearestNeighbor: 0.8051948051948052\n"
          ]
        }
      ],
      "source": [
        "print(\"Accuracy score of RandomForestClassifier:\",a1)\n",
        "print(\"Accuaracy scorer of DecisionTreeClassifier:\",a2)\n",
        "print(\"Accuracy score of XGBClassifier:\",a3)\n",
        "print(\"Accuracy score of KNearestNeighbor:\",a4)"
      ]
    },
    {
      "cell_type": "markdown",
      "id": "NVhwlZk_v9zO",
      "metadata": {
        "id": "NVhwlZk_v9zO"
      },
      "source": [
        "## ***Final Model***"
      ]
    },
    {
      "cell_type": "code",
      "execution_count": 28,
      "id": "u5njyOjRv6if",
      "metadata": {
        "id": "u5njyOjRv6if"
      },
      "outputs": [],
      "source": [
        "# After checking all the models XGB Classifier is performing well\n",
        "# So our final model si XGBClassifier\n",
        "from xgboost import XGBClassifier\n",
        "xgb=XGBClassifier()\n",
        "model=xgb.fit(x_train,y_train)\n",
        "y_pred_xgb=model3.predict(x_test)"
      ]
    },
    {
      "cell_type": "markdown",
      "id": "NMChT4g3xVjc",
      "metadata": {
        "id": "NMChT4g3xVjc"
      },
      "source": [
        "## ***Evaluation Metrics***"
      ]
    },
    {
      "cell_type": "code",
      "execution_count": 29,
      "id": "mPyu5wKLxKLT",
      "metadata": {
        "colab": {
          "base_uri": "https://localhost:8080/"
        },
        "id": "mPyu5wKLxKLT",
        "outputId": "2b3d8540-d8fe-46cb-f9e9-77747bae8d5f"
      },
      "outputs": [
        {
          "output_type": "execute_result",
          "data": {
            "text/plain": [
              "0.8311688311688312"
            ]
          },
          "metadata": {},
          "execution_count": 29
        }
      ],
      "source": [
        "accuracy_score(y_test,y_pred_xgb)"
      ]
    },
    {
      "cell_type": "code",
      "execution_count": 30,
      "id": "sRkmCUwEv63t",
      "metadata": {
        "colab": {
          "base_uri": "https://localhost:8080/"
        },
        "id": "sRkmCUwEv63t",
        "outputId": "0c5934c0-2f5f-4b3f-8e12-7666a84dd279"
      },
      "outputs": [
        {
          "output_type": "stream",
          "name": "stdout",
          "text": [
            "              precision    recall  f1-score   support\n",
            "\n",
            "           0       0.87      0.47      0.61        43\n",
            "           1       0.82      0.97      0.89       111\n",
            "\n",
            "    accuracy                           0.83       154\n",
            "   macro avg       0.85      0.72      0.75       154\n",
            "weighted avg       0.84      0.83      0.81       154\n",
            "\n"
          ]
        }
      ],
      "source": [
        "from sklearn.metrics import classification_report,confusion_matrix\n",
        "print(classification_report(y_test,y_pred_xgb))"
      ]
    },
    {
      "cell_type": "code",
      "execution_count": 31,
      "id": "8O7w1Yk8v7bb",
      "metadata": {
        "colab": {
          "base_uri": "https://localhost:8080/"
        },
        "id": "8O7w1Yk8v7bb",
        "outputId": "1a18fa67-723a-45e0-daa0-88595eb54cc1"
      },
      "outputs": [
        {
          "output_type": "execute_result",
          "data": {
            "text/plain": [
              "array([[ 20,  23],\n",
              "       [  3, 108]])"
            ]
          },
          "metadata": {},
          "execution_count": 31
        }
      ],
      "source": [
        "confusion_matrix=confusion_matrix(y_test,y_pred_xgb)\n",
        "confusion_matrix"
      ]
    },
    {
      "cell_type": "code",
      "execution_count": 32,
      "id": "l-g-y9c_yoIc",
      "metadata": {
        "colab": {
          "base_uri": "https://localhost:8080/",
          "height": 296
        },
        "id": "l-g-y9c_yoIc",
        "outputId": "23f02954-5c5e-4319-8170-ab9709777839"
      },
      "outputs": [
        {
          "output_type": "execute_result",
          "data": {
            "text/plain": [
              "Text(33.0, 0.5, 'predicted values')"
            ]
          },
          "metadata": {},
          "execution_count": 32
        },
        {
          "output_type": "display_data",
          "data": {
            "text/plain": [
              "<Figure size 432x288 with 2 Axes>"
            ],
            "image/png": "[encoded data removed]"
          },
          "metadata": {
            "needs_background": "light"
          }
        }
      ],
      "source": [
        "sns.heatmap(confusion_matrix)\n",
        "plt.xlabel(\"actual values\")\n",
        "plt.ylabel(\"predicted values\")"
      ]
    }
  ],
  "metadata": {
    "colab": {
      "provenance": []
    },
    "kernelspec": {
      "display_name": "Python 3 (ipykernel)",
      "language": "python",
      "name": "python3"
    },
    "language_info": {
      "codemirror_mode": {
        "name": "ipython",
        "version": 3
      },
      "file_extension": ".py",
      "mimetype": "text/x-python",
      "name": "python",
      "nbconvert_exporter": "python",
      "pygments_lexer": "ipython3",
      "version": "3.10.3"
    }
  },
  "nbformat": 4,
  "nbformat_minor": 5
}