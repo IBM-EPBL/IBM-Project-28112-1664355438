{
  "cells": [
    {
      "cell_type": "markdown",
      "id": "9d036243",
      "metadata": {
        "id": "9d036243"
      },
      "source": [
        "## ***Saving The Model***"
      ]
    },
    {
      "cell_type": "code",
      "execution_count": 33,
      "id": "bptDuzUMdmhd",
      "metadata": {
        "id": "bptDuzUMdmhd"
      },
      "outputs": [],
      "source": [
        "import pickle"
      ]
    },
    {
      "cell_type": "code",
      "execution_count": 34,
      "id": "nT6wyvUEi9sL",
      "metadata": {
        "id": "nT6wyvUEi9sL"
      },
      "outputs": [],
      "source": [
        "pickle.dump(model, open('Loan Prediction', 'wb'))"
      ]
    },
    {
      "cell_type": "code",
      "execution_count": 35,
      "id": "f56TDibMjJLt",
      "metadata": {
        "id": "f56TDibMjJLt"
      },
      "outputs": [],
      "source": [
        "kranthi=pickle.load(open('Loan Prediction','rb'))"
      ]
    },
    {
      "cell_type": "code",
      "execution_count": 36,
      "id": "KR0_bsk4eAtw",
      "metadata": {
        "colab": {
          "base_uri": "https://localhost:8080/"
        },
        "id": "KR0_bsk4eAtw",
        "outputId": "d315e2eb-1353-433c-f8c0-04cf51e93f54"
      },
      "outputs": [
        {
          "output_type": "execute_result",
          "data": {
            "text/plain": [
              "array([1, 1, 1, 1, 1, 0, 1, 1, 0, 1, 1, 1, 1, 1, 1, 1, 1, 1, 1, 0, 0, 1,\n",
              "       1, 1, 1, 1, 1, 1, 0, 0, 1, 0, 1, 1, 1, 0, 1, 1, 1, 1, 1, 0, 1, 1,\n",
              "       1, 1, 1, 1, 1, 1, 1, 1, 1, 1, 1, 1, 1, 1, 1, 1, 0, 1, 1, 0, 1, 1,\n",
              "       1, 1, 1, 1, 1, 1, 1, 1, 1, 1, 1, 1, 1, 0, 1, 1, 1, 1, 1, 1, 1, 1,\n",
              "       1, 1, 1, 1, 1, 0, 1, 0, 1, 1, 1, 1, 1, 1, 1, 1, 1, 1, 1, 1, 1, 0,\n",
              "       1, 1, 1, 1, 0, 0, 1, 1, 1, 1, 1, 0, 1, 1, 1, 0, 1, 1, 1, 1, 1, 1,\n",
              "       1, 1, 1, 1, 1, 1, 1, 1, 1, 1, 0, 1, 1, 1, 1, 1, 0, 0, 1, 1, 1, 0])"
            ]
          },
          "metadata": {},
          "execution_count": 36
        }
      ],
      "source": [
        "kranthi.predict(x_test)"
      ]
    }
  ],
  "metadata": {
    "colab": {
      "provenance": []
    },
    "kernelspec": {
      "display_name": "Python 3 (ipykernel)",
      "language": "python",
      "name": "python3"
    },
    "language_info": {
      "codemirror_mode": {
        "name": "ipython",
        "version": 3
      },
      "file_extension": ".py",
      "mimetype": "text/x-python",
      "name": "python",
      "nbconvert_exporter": "python",
      "pygments_lexer": "ipython3",
      "version": "3.10.3"
    }
  },
  "nbformat": 4,
  "nbformat_minor": 5
}